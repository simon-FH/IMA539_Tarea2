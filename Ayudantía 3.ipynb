{
 "cells": [
  {
   "attachments": {},
   "cell_type": "markdown",
   "metadata": {},
   "source": [
    "<h3><center>Clase ejercicios - IMA539.</center></h3>\n",
    "<center>Camilo Calfucoy, Fernanda Garrido.</center>\n",
    "\n",
    "<center>4 de Diciembre del 2023.</center>\n",
    "\n",
    "\n",
    "\n",
    "ANTES DE COMENZAR SE DEBE INSTALAR LA SIGUIENTE COMPONENTE (en el entorno ima539):\n",
    "\n",
    "pip install tqdm"
   ]
  },
  {
   "attachments": {},
   "cell_type": "markdown",
   "metadata": {},
   "source": [
    "### La base de datos.\n",
    "El conjunto de datos Custom-FashionMNIST contiene un total de 70.000 imágenes en escala de grises de tamaño 28x28 píxeles cada una. Las imágenes provienen de artículos publicados en Zalando se distinguen 10 clases:   \n",
    "\n",
    "| Clase | Etiqueta | Clase | Etiqueta  |\n",
    "|-------|----------|-------|-----------|\n",
    "| 0     | Polera   | 5     | Sandalia  |\n",
    "| 1     | Pantalón | 6     | Camisa    |\n",
    "| 2     | Polerón  | 7     | Zapatilla |\n",
    "| 3     | Vestido  | 8     | Bolso     |\n",
    "| 4     | Abrigo   | 9     | Botas     |\n",
    "\n",
    "Este dataset es importante en la literatura pues se diseñó para tomar el puesto del MNIST original (clasificación de números escritos a mano). Normalmente, su carga se puede automatizar en la mayoría de las librerías de ML como PyTorch o Tensorflow, sin embargo, Custom-FashionMNIST ha sido reordenado cuidadosamente de modo de hacerle el trabajo un poco más difícil:\n",
    "\n",
    "El conjunto de datos se ha separado de modo que los elementos clasificados con un número \n",
    "\n",
    "- **Par**: Se encuentran separados en carpetas cuyo nombre es el número de la clase y cada archivo de imagen posee como nombre `image-id_A.jpg`, donde `A` es el identificador de la imagen. La única excepción a la regla son los elementos con clasificación bolso, en cuyo caso el nombre de la carpeta es un string. \n",
    "- **Impar**: Se encuentran todas agrupadas en un directorio de nombre `other` y el formato de los nombres de los archivos de imagen es `image-id_A-label-B.jpg`, donde `A` es el identificador de la imagen y `B` su clase.\n",
    "\n",
    "**Los identificadores `A` de las imágenes son únicos, independientemente de su ubicación o clasificación.**\n",
    "\n",
    "El siguiente diagrama muestra la distribución de los ficheros del conjunto de datos:\n",
    "```\n",
    "Custom-FashionMNIST\n",
    "├── 0\n",
    "│   ├── image-id_0.jpg\n",
    "│   └── ...\n",
    "├── 2\n",
    "│   ├── image-id_5665.jpg\n",
    "│   └── ...\n",
    "├── 4\n",
    "│   ├── image-id_1837.jpg\n",
    "│   └── ...\n",
    "├── 6\n",
    "│   ├── image-id_31784.jpg\n",
    "│   └── ...\n",
    "├── bag\n",
    "│   ├── image-id_18461.jpg\n",
    "│   └── ...\n",
    "└── other\n",
    "    ├── image-id_6171-label_1.jpg\n",
    "    └── ...\n",
    "```\n",
    "\n",
    "**Importante:** Como el sistema operativo en que este conjunto de datos fue armado es MacOS, carpetas con el nombre .DS_Store pueden ser encontradas dentro de algunos directorios, lo cual debe ser considerado en la lectura de los archivos.\n",
    "\n",
    "\n",
    "### Ejercicio.\n",
    "Realize un split train/val/test de la base de datos, luego, idee e instancie un modelo de CNN utilizando PyTorch. Entrene el modelo y determine si este presenta sobre-ajuste, bajo-ajuste. Finalmente, reporte Acc, TPR, FPR, K y MCC en el conjunto de testeo."
   ]
  },
  {
   "attachments": {},
   "cell_type": "markdown",
   "metadata": {},
   "source": [
    "***\n",
    "### Database creation"
   ]
  },
  {
   "cell_type": "code",
   "execution_count": 1,
   "metadata": {},
   "outputs": [],
   "source": [
    "import os\n",
    "import torchvision\n",
    "import matplotlib.pyplot as plt\n",
    "from torch.utils.data import DataLoader"
   ]
  },
  {
   "cell_type": "code",
   "execution_count": 2,
   "metadata": {},
   "outputs": [
    {
     "name": "stdout",
     "output_type": "stream",
     "text": [
      "Downloading http://fashion-mnist.s3-website.eu-central-1.amazonaws.com/train-images-idx3-ubyte.gz\n",
      "Downloading http://fashion-mnist.s3-website.eu-central-1.amazonaws.com/train-images-idx3-ubyte.gz to .\\FashionMNIST\\raw\\train-images-idx3-ubyte.gz\n"
     ]
    },
    {
     "name": "stderr",
     "output_type": "stream",
     "text": [
      "100%|██████████| 26421880/26421880 [00:18<00:00, 1397239.71it/s]\n"
     ]
    },
    {
     "name": "stdout",
     "output_type": "stream",
     "text": [
      "Extracting .\\FashionMNIST\\raw\\train-images-idx3-ubyte.gz to .\\FashionMNIST\\raw\n",
      "\n",
      "Downloading http://fashion-mnist.s3-website.eu-central-1.amazonaws.com/train-labels-idx1-ubyte.gz\n",
      "Downloading http://fashion-mnist.s3-website.eu-central-1.amazonaws.com/train-labels-idx1-ubyte.gz to .\\FashionMNIST\\raw\\train-labels-idx1-ubyte.gz\n"
     ]
    },
    {
     "name": "stderr",
     "output_type": "stream",
     "text": [
      "100%|██████████| 29515/29515 [00:00<00:00, 121981.14it/s]\n"
     ]
    },
    {
     "name": "stdout",
     "output_type": "stream",
     "text": [
      "Extracting .\\FashionMNIST\\raw\\train-labels-idx1-ubyte.gz to .\\FashionMNIST\\raw\n",
      "\n",
      "Downloading http://fashion-mnist.s3-website.eu-central-1.amazonaws.com/t10k-images-idx3-ubyte.gz\n",
      "Downloading http://fashion-mnist.s3-website.eu-central-1.amazonaws.com/t10k-images-idx3-ubyte.gz to .\\FashionMNIST\\raw\\t10k-images-idx3-ubyte.gz\n"
     ]
    },
    {
     "name": "stderr",
     "output_type": "stream",
     "text": [
      "100%|██████████| 4422102/4422102 [00:07<00:00, 615402.40it/s]\n"
     ]
    },
    {
     "name": "stdout",
     "output_type": "stream",
     "text": [
      "Extracting .\\FashionMNIST\\raw\\t10k-images-idx3-ubyte.gz to .\\FashionMNIST\\raw\n",
      "\n",
      "Downloading http://fashion-mnist.s3-website.eu-central-1.amazonaws.com/t10k-labels-idx1-ubyte.gz\n",
      "Downloading http://fashion-mnist.s3-website.eu-central-1.amazonaws.com/t10k-labels-idx1-ubyte.gz to .\\FashionMNIST\\raw\\t10k-labels-idx1-ubyte.gz\n"
     ]
    },
    {
     "name": "stderr",
     "output_type": "stream",
     "text": [
      "100%|██████████| 5148/5148 [00:00<00:00, 2457857.37it/s]\n"
     ]
    },
    {
     "name": "stdout",
     "output_type": "stream",
     "text": [
      "Extracting .\\FashionMNIST\\raw\\t10k-labels-idx1-ubyte.gz to .\\FashionMNIST\\raw\n",
      "\n"
     ]
    }
   ],
   "source": [
    "transform = torchvision.transforms.Compose([torchvision.transforms.ToTensor()])\n",
    "\n",
    "mnist_train_dataset = torchvision.datasets.FashionMNIST(root= '.', train= True,\n",
    "                                                  transform= transform, download= True)\n",
    "mnist_test_dataset = torchvision.datasets.FashionMNIST(root= '.', train= False,\n",
    "                                                       transform= transform, download= False)"
   ]
  },
  {
   "cell_type": "code",
   "execution_count": 3,
   "metadata": {},
   "outputs": [],
   "source": [
    "batch_size = 32\n",
    "train_dl = DataLoader(mnist_train_dataset, batch_size= batch_size, shuffle= False)\n",
    "test_dl = DataLoader(mnist_test_dataset, batch_size= batch_size, shuffle= False)"
   ]
  },
  {
   "cell_type": "code",
   "execution_count": 4,
   "metadata": {},
   "outputs": [],
   "source": [
    "# ID of the image\n",
    "image_id = 0\n",
    "\n",
    "# Root dir\n",
    "root = 'Custom-FashionMNIST'\n",
    "if not os.path.exists(root):\n",
    "    os.mkdir(root)\n",
    "\n",
    "# For every batch\n",
    "for dl in [train_dl, test_dl]:\n",
    "    for imgs, labels in dl:\n",
    "        for img, label in zip(imgs, labels):\n",
    "            # Pair labels\n",
    "            if label.item() in [1, 3, 5, 7, 9]:\n",
    "                dir_name = os.path.join(root, 'other_labels')\n",
    "                if not os.path.exists(dir_name):\n",
    "                    os.makedirs(dir_name)\n",
    "                image_file_name = os.path.join(dir_name, f'image-id_{str(image_id)}-label_{str(label.item())}.jpg')\n",
    "            # Odd labels\n",
    "            else:\n",
    "                class_dir_name = 'bag' if label.item() == 8 else str(label.item())\n",
    "                dir_name = os.path.join(root, class_dir_name)\n",
    "                if not os.path.exists(dir_name):\n",
    "                    os.makedirs(dir_name)\n",
    "                image_file_name = os.path.join(dir_name, f'image-id_{str(image_id)}.jpg')\n",
    "            #torchvision.utils.save_image(img, image_file_name)\n",
    "            torchvision.transforms.ToPILImage()(img).save(image_file_name)\n",
    "            image_id += 1\n",
    "\n",
    "print(f'Images on the original dataset: {len(mnist_test_dataset) + len(mnist_train_dataset)}')\n",
    "print(f'Images on the custom dataset: {image_id}')"
   ]
  },
  {
   "attachments": {},
   "cell_type": "markdown",
   "metadata": {},
   "source": [
    "***\n",
    "### Librerías y útiles"
   ]
  },
  {
   "cell_type": "code",
   "execution_count": 5,
   "metadata": {},
   "outputs": [],
   "source": [
    "# default\n",
    "import os\n",
    "\n",
    "# pip\n",
    "import numpy as np\n",
    "from tqdm import tqdm\n",
    "import matplotlib.pyplot as plt\n",
    "from sklearn.model_selection import train_test_split\n",
    "\n",
    "# torch\n",
    "import torch\n",
    "import torchvision\n",
    "from torch import nn\n",
    "#from torchinfo import summary\n",
    "from torch.utils.data import Dataset, DataLoader"
   ]
  },
  {
   "attachments": {},
   "cell_type": "markdown",
   "metadata": {},
   "source": [
    "***\n",
    "### Vías de carga\n",
    "1. **Dataloader**: Para esto, la base de datos debe contener una carpeta por clase con todos los elementos correspondientes a esa clase dentro. Dataloader cargará los elementos en batches y creará un diccionario que contiene el mapeo de las clases a entero. Una vez creado, es posible definir el tamaño del batch y automáticamente se administrarán los recursos para la creación de los batches en las llamadas\n",
    "2. **Cargado de datos por batch**: Se debe implementar un script que permita cargar las muestras, es importante distinguirlo porque acá se tiene el cuidado de cargar únicamente los elementos del batch en memoria.\n",
    "3. **Cargado de todos los datos**: Simplemente se leen todos los datos y luego se van utilizando en batches. Es la peor de todas pues no optimiza los recursos de la máqunia, lo que puede resultar en errores en una implementación con una cantidad elevada de datos.\n",
    "\n",
    "Se implementará la segunda forma. Para esto, en primer lugar se crea un arreglo con las rutas de las imágenes y otro con sus clases"
   ]
  },
  {
   "cell_type": "code",
   "execution_count": 6,
   "metadata": {},
   "outputs": [
    {
     "name": "stdout",
     "output_type": "stream",
     "text": [
      "class | counts\n",
      "--------------\n",
      "    0 | 7000\n",
      "    1 | 7000\n",
      "    2 | 7000\n",
      "    3 | 7000\n",
      "    4 | 7000\n",
      "    5 | 7000\n",
      "    6 | 7000\n",
      "    7 | 7000\n",
      "    8 | 7000\n",
      "    9 | 7000\n"
     ]
    }
   ],
   "source": [
    "# Carpeta raiz de todo el dataset\n",
    "root = 'Custom-FashionMNIST'\n",
    "\n",
    "# Paths and labels\n",
    "img_paths = []\n",
    "img_class = []\n",
    "\n",
    "# For every dir in root\n",
    "for class_dir in os.listdir(root):\n",
    "    # Do nothing when the dir name is .DS_Store\n",
    "    if class_dir == '.DS_Store':\n",
    "        continue\n",
    "    # Path to dir in root\n",
    "    class_dir_path = os.path.join(root, class_dir)\n",
    "\n",
    "    # Get every element in the dir\n",
    "    elems = [os.path.join(class_dir_path, x) \n",
    "                for x in os.listdir(class_dir_path) \n",
    "                if x != '.DS_Store']\n",
    "    # Add image path\n",
    "    img_paths.extend(elems)\n",
    "\n",
    "    # -------------------------\n",
    "    # Treatment for odd labels\n",
    "    # -------------------------\n",
    "    if class_dir == 'other_labels':\n",
    "        img_class.extend([int(x[-5]) for x in elems])\n",
    "\n",
    "    # -------------------------\n",
    "    # Treatment for pair labels\n",
    "    # -------------------------\n",
    "    else:\n",
    "        # Change bag to 8 class\n",
    "        if class_dir == 'bag':\n",
    "            img_class.extend([8 for _ in range(len(elems))])\n",
    "        # Dir name to int\n",
    "        else:\n",
    "            img_class.extend([int(class_dir) for _ in range(len(elems))])\n",
    "\n",
    "# Verificación\n",
    "classes, counts = np.unique(img_class, return_counts= True)\n",
    "print('class | counts')\n",
    "print('--------------')\n",
    "_ = [print('{:5n} | {:n}'.format(x, y)) for x, y in zip(classes, counts)]"
   ]
  },
  {
   "attachments": {},
   "cell_type": "markdown",
   "metadata": {},
   "source": [
    "Con esto, es posible generar el split TVT. Aquí usaremos un truco, en vez de trabajar con las imágenes podríamos trabajar con sus rutas, pero hay una forma mejor aún, trabajar con los índices del arreglo de rutas!"
   ]
  },
  {
   "cell_type": "code",
   "execution_count": 7,
   "metadata": {},
   "outputs": [
    {
     "name": "stdout",
     "output_type": "stream",
     "text": [
      "Cantidad de elementos en:\n",
      "  Train: 50400\n",
      "  Val:   12600\n",
      "  Test:  7000\n",
      "\n",
      "Indices repetidos entre Train/Test: 0\n",
      "Indices repetidos entre Train/Val: 0\n",
      "Indices repetidos entre Test/Val: 0\n"
     ]
    }
   ],
   "source": [
    "img_path_idxs = list(range(len(img_paths)))\n",
    "\n",
    "# Train+Validation / Test\n",
    "X_train_val, X_test, y_train_val, y_test = train_test_split(img_path_idxs, img_class, test_size=0.1, random_state=42, stratify= img_class)\n",
    "\n",
    "# Train / Validation\n",
    "X_train, X_val, y_train, y_val = train_test_split(X_train_val, y_train_val, test_size=0.2, random_state=42, stratify= y_train_val)\n",
    "\n",
    "print(f'Cantidad de elementos en:\\n  Train: {len(X_train)}\\n  Val:   {len(X_val)}\\n  Test:  {len(X_test)}')\n",
    "print(f'\\nIndices repetidos entre Train/Test: {len(set(X_test).intersection(set(X_train)))}')\n",
    "print(f'Indices repetidos entre Train/Val: {len(set(X_train).intersection(set(X_val)))}')\n",
    "print(f'Indices repetidos entre Test/Val: {len(set(X_test).intersection(set(X_val)))}')"
   ]
  },
  {
   "attachments": {},
   "cell_type": "markdown",
   "metadata": {},
   "source": [
    "Ahora es necesario cargar los batches, lo ideal sería hacerlo de la forma que menos recursos utilice. Para esto, es posible utilizar generadores de Python"
   ]
  },
  {
   "cell_type": "code",
   "execution_count": 8,
   "metadata": {},
   "outputs": [],
   "source": [
    "# Generador\n",
    "def getBatch(paths, labels, index_split, batch_size):\n",
    "    paths, labels = np.array(paths), np.array(labels)\n",
    "    l = len(index_split)\n",
    "    for ndx in range(0, l, batch_size):\n",
    "        idxs = index_split[ndx:min(ndx + batch_size, l)]\n",
    "        imgs = torch.stack([torchvision.io.read_image(x) for x in paths[idxs]])\n",
    "        labels = torch.tensor(labels[idxs],dtype=torch.long)\n",
    "        yield imgs, labels"
   ]
  },
  {
   "attachments": {},
   "cell_type": "markdown",
   "metadata": {},
   "source": [
    "Aunque es más cómodo crear una clase dataset customizada y luego enviarla a un dataloader"
   ]
  },
  {
   "cell_type": "code",
   "execution_count": 9,
   "metadata": {},
   "outputs": [],
   "source": [
    "class CustomImageDataset(Dataset):\n",
    "    def __init__(self, paths, labels, split_indexes):\n",
    "        # Indexes of the split\n",
    "        self.split_indexes = split_indexes\n",
    "        # Only elements of that split\n",
    "        self.paths = np.array(paths)[split_indexes]\n",
    "        self.labels = np.array(labels)[split_indexes]\n",
    "\n",
    "    def __len__(self):\n",
    "        return len(self.split_indexes)\n",
    "\n",
    "    def __getitem__(self, idx):\n",
    "        image = torchvision.io.read_image(self.paths[idx]).float()\n",
    "        label = torch.tensor(self.labels[idx],dtype=torch.long)\n",
    "        return image, label"
   ]
  },
  {
   "cell_type": "code",
   "execution_count": 10,
   "metadata": {},
   "outputs": [],
   "source": [
    "# Datasets\n",
    "train_ds = CustomImageDataset(img_paths, img_class, X_train)\n",
    "valid_ds = CustomImageDataset(img_paths, img_class, X_val)\n",
    "test_ds = CustomImageDataset(img_paths, img_class, X_test)\n",
    "\n",
    "# DataLoaders\n",
    "batch_size = 32\n",
    "train_dl = DataLoader(train_ds, batch_size= batch_size, shuffle= True)\n",
    "valid_dl = DataLoader(valid_ds, batch_size= batch_size, shuffle= False)"
   ]
  },
  {
   "attachments": {},
   "cell_type": "markdown",
   "metadata": {},
   "source": [
    "### Implementación del modelo."
   ]
  },
  {
   "cell_type": "code",
   "execution_count": 11,
   "metadata": {},
   "outputs": [],
   "source": [
    "# Constructor\n",
    "model = nn.Sequential()\n",
    "\n",
    "# Conv -> ReLU -> MaxPooling\n",
    "model.add_module('conv1', nn.Conv2d(in_channels= 1, out_channels= 32, kernel_size= 5, padding= 2))\n",
    "model.add_module('relu1', nn.ReLU())\n",
    "model.add_module('pool1', nn.MaxPool2d(kernel_size= 2))\n",
    "\n",
    "# Conv -> ReLU -> MaxPooling\n",
    "model.add_module('conv2', nn.Conv2d(in_channels= 32, out_channels= 64, kernel_size= 5, padding= 2))\n",
    "model.add_module('relu2', nn.ReLU())\n",
    "model.add_module('pool2', nn.MaxPool2d(kernel_size= 2))\n",
    "\n",
    "# Flatten\n",
    "model.add_module('flatten', nn.Flatten())\n",
    "\n",
    "# Full Connected -> ReLU -> Dropout\n",
    "model.add_module('fc1', nn.Linear(3136, 1024))\n",
    "model.add_module('relu3', nn.ReLU())\n",
    "model.add_module('dropout', nn.Dropout(p= .5))\n",
    "\n",
    "# Full Connected\n",
    "model.add_module('fc2', nn.Linear(1024, 10))\n",
    "#model.add_module('soft', nn.Softmax(dim=10))"
   ]
  },
  {
   "cell_type": "code",
   "execution_count": 12,
   "metadata": {},
   "outputs": [
    {
     "name": "stdout",
     "output_type": "stream",
     "text": [
      "You're using: cuda as device.\n"
     ]
    }
   ],
   "source": [
    "# Selección de dispositivo\n",
    "if torch.cuda.is_available(): \n",
    "    processing_unit = 'cuda'\n",
    "elif torch.backends.mps.is_built():\n",
    "    processing_unit = 'mps'\n",
    "else:\n",
    "    processing_unit = 'cpu'\n",
    "device = torch.device(processing_unit)\n",
    "\n",
    "# Pesos del modelo al dispositivo\n",
    "model.to(device)\n",
    "\n",
    "print(f\"You're using: {device} as device.\")"
   ]
  },
  {
   "attachments": {},
   "cell_type": "markdown",
   "metadata": {},
   "source": [
    "### Entrenamiento"
   ]
  },
  {
   "cell_type": "code",
   "execution_count": 13,
   "metadata": {},
   "outputs": [],
   "source": [
    "# Función de costo: CrossEntropy\n",
    "loss_fn = nn.CrossEntropyLoss()\n",
    "\n",
    "# Optimizador: ADAM\n",
    "optimizer = torch.optim.Adam(model.parameters(), lr= .001)"
   ]
  },
  {
   "attachments": {},
   "cell_type": "markdown",
   "metadata": {},
   "source": [
    "Función de entrenamiento"
   ]
  },
  {
   "cell_type": "code",
   "execution_count": 14,
   "metadata": {},
   "outputs": [],
   "source": [
    "def train(model, num_epochs, train_dl, valid_dl, device):\n",
    "    # Perdida y exactitud en entrenamiento\n",
    "    loss_hist_train = torch.zeros(num_epochs).to(device)\n",
    "    accuracy_hist_train = torch.zeros(num_epochs).to(device)\n",
    "    # Perdida y exactitud en validación\n",
    "    loss_hist_valid = torch.zeros(num_epochs).to(device)\n",
    "    accuracy_hist_valid = torch.zeros(num_epochs).to(device)\n",
    "\n",
    "    # Por cada época\n",
    "    for epoch in range(num_epochs):\n",
    "        # Modelo en modo entrenamiento\n",
    "        model.train()\n",
    "        with tqdm(train_dl, unit=\"batch\") as tepoch:\n",
    "            # Por batch en el conjunto de entrenamiento\n",
    "            for x_batch, y_batch in tepoch:\n",
    "                x_batch, y_batch = x_batch.to(device), y_batch.to(device)\n",
    "                # Predicciones del modelo\n",
    "                pred = model(x_batch)\n",
    "                # Pérdida del modelo\n",
    "                loss = loss_fn(pred, y_batch)\n",
    "                # Paso hacia atrás\n",
    "                optimizer.zero_grad()\n",
    "                loss.backward()\n",
    "                optimizer.step()\n",
    "                # Guarda pérdida en entrenamiento\n",
    "                loss_hist_train[epoch] += loss.item() * y_batch.size(0)\n",
    "                # Cantidad de muestras predichas correctamente\n",
    "                is_correct = (torch.argmax(pred, dim=1) == y_batch).float()\n",
    "                # Guarda exactitud\n",
    "                accuracy_hist_train[epoch] += is_correct.sum()\n",
    "                tepoch.set_postfix(batch_loss= loss.item(),\n",
    "                                   batch_accuracy= 100. * is_correct.sum().item() / y_batch.size(0))\n",
    "            # Promedio por época en todos los batches\n",
    "            loss_hist_train[epoch] /= len(train_dl.dataset)\n",
    "            accuracy_hist_train[epoch] /= len(train_dl.dataset)\n",
    "\n",
    "        # Modelo en modo evaluación\n",
    "        model.eval()\n",
    "        with tqdm(valid_dl, unit=\"batch\") as vepoch:\n",
    "            # Pesos congelados\n",
    "            with torch.no_grad():\n",
    "                # Por batch en el conjunto de validación\n",
    "                for x_batch, y_batch in vepoch:\n",
    "                    x_batch, y_batch = x_batch.to(device), y_batch.to(device)\n",
    "                    # Predicciones\n",
    "                    pred = model(x_batch)\n",
    "                    # Pérdida\n",
    "                    loss = loss_fn(pred, y_batch)\n",
    "                    # Guarda pérdia en validación\n",
    "                    loss_hist_valid[epoch] += loss.item() * y_batch.size(0)\n",
    "                    # Cantidad de muestras predichas correctamente\n",
    "                    is_correct = (torch.argmax(pred, dim=1) == y_batch).float()\n",
    "                    # Guarda exactitud\n",
    "                    accuracy_hist_valid[epoch] += is_correct.sum()\n",
    "                    vepoch.set_postfix(batch_loss= loss.item(),\n",
    "                                       batch_accuracy= 100. * is_correct.sum().item() / y_batch.size(0))\n",
    "            # Promedio por época en todos los batches\n",
    "            loss_hist_valid[epoch] /= len(valid_dl.dataset)\n",
    "            accuracy_hist_valid[epoch] /= len(valid_dl.dataset)\n",
    "\n",
    "    return loss_hist_train.cpu(), loss_hist_valid.cpu(), accuracy_hist_train.cpu(), accuracy_hist_valid.cpu()"
   ]
  },
  {
   "attachments": {},
   "cell_type": "markdown",
   "metadata": {},
   "source": [
    "Entrenamiento"
   ]
  },
  {
   "cell_type": "code",
   "execution_count": 16,
   "metadata": {},
   "outputs": [
    {
     "name": "stderr",
     "output_type": "stream",
     "text": [
      "  0%|          | 0/1575 [00:00<?, ?batch/s]"
     ]
    },
    {
     "name": "stderr",
     "output_type": "stream",
     "text": [
      "100%|██████████| 1575/1575 [06:24<00:00,  4.10batch/s, batch_accuracy=93.8, batch_loss=0.309]\n",
      "100%|██████████| 394/394 [01:14<00:00,  5.30batch/s, batch_accuracy=91.7, batch_loss=0.293] \n",
      "100%|██████████| 1575/1575 [00:47<00:00, 32.91batch/s, batch_accuracy=87.5, batch_loss=0.258] \n",
      "100%|██████████| 394/394 [00:04<00:00, 83.74batch/s, batch_accuracy=79.2, batch_loss=0.372]\n",
      "100%|██████████| 1575/1575 [00:23<00:00, 67.38batch/s, batch_accuracy=81.2, batch_loss=0.417] \n",
      "100%|██████████| 394/394 [00:04<00:00, 88.27batch/s, batch_accuracy=83.3, batch_loss=0.241] \n",
      "100%|██████████| 1575/1575 [00:23<00:00, 67.29batch/s, batch_accuracy=84.4, batch_loss=0.476] \n",
      "100%|██████████| 394/394 [00:04<00:00, 91.22batch/s, batch_accuracy=83.3, batch_loss=0.392] \n"
     ]
    }
   ],
   "source": [
    "torch.manual_seed(1)\n",
    "num_epochs = 4\n",
    "hist = train(model, num_epochs, train_dl, valid_dl, device)"
   ]
  },
  {
   "attachments": {},
   "cell_type": "markdown",
   "metadata": {},
   "source": [
    "### Evaluación del modelo"
   ]
  },
  {
   "attachments": {},
   "cell_type": "markdown",
   "metadata": {},
   "source": [
    "Curvas de aprendizaje"
   ]
  },
  {
   "cell_type": "code",
   "execution_count": 17,
   "metadata": {},
   "outputs": [
    {
     "data": {
      "image/png": "[encoded data removed]",
      "text/plain": [
       "<Figure size 1200x400 with 2 Axes>"
      ]
     },
     "metadata": {},
     "output_type": "display_data"
    }
   ],
   "source": [
    "x_arr = np.arange(len(hist[0])) + 1\n",
    "fig = plt.figure(figsize= (12, 4))\n",
    "ax = fig.add_subplot(1, 2, 1)\n",
    "ax.plot(x_arr, hist[0], '-o', label='Train loss')\n",
    "ax.plot(x_arr, hist[1], '--<', label='Validation loss')\n",
    "ax.set_xlabel('Epoch', size=15)\n",
    "ax.set_ylabel('Loss', size=15)\n",
    "ax.legend(fontsize=15)\n",
    "\n",
    "ax = fig.add_subplot(1, 2, 2)\n",
    "ax.plot(x_arr, hist[2], '-o', label='Train acc.')\n",
    "ax.plot(x_arr, hist[3], '--<', label='Validation acc.')\n",
    "ax.legend(fontsize=15)\n",
    "ax.set_xlabel('Epoch', size=15)\n",
    "ax.set_ylabel('Accuracy', size=15)\n",
    "plt.show()"
   ]
  },
  {
   "attachments": {},
   "cell_type": "markdown",
   "metadata": {},
   "source": [
    "Evaluación en testeo"
   ]
  },
  {
   "cell_type": "code",
   "execution_count": 18,
   "metadata": {},
   "outputs": [],
   "source": [
    "# Imagenes en testeo\n",
    "test_imgs = torch.stack([test_ds[i][0] for i in range(len(test_ds))]).to(device)\n",
    "# Predicción\n",
    "predictions = model(test_imgs)\n",
    "del test_imgs\n",
    "# Predicciones a categórica\n",
    "test_pred_class = torch.argmax(predictions, dim= 1)\n",
    "del predictions\n",
    "# Etiqueta real\n",
    "test_real_class = torch.stack([test_ds[i][1] for i in range(len(test_ds))]).to(device)"
   ]
  },
  {
   "cell_type": "code",
   "execution_count": 19,
   "metadata": {},
   "outputs": [
    {
     "name": "stdout",
     "output_type": "stream",
     "text": [
      "Test accuracy: 0.8779\n"
     ]
    }
   ],
   "source": [
    "is_correct = (test_pred_class == test_real_class).float()\n",
    "print(f'Test accuracy: {is_correct.mean():.4f}')"
   ]
  },
  {
   "attachments": {},
   "cell_type": "markdown",
   "metadata": {},
   "source": [
    "Subset de imágenes y su predicción"
   ]
  },
  {
   "cell_type": "code",
   "execution_count": 20,
   "metadata": {},
   "outputs": [],
   "source": [
    "num_to_class = {0: 'Tshirt', 1: 'Trouser',\n",
    "                2: 'Pullover', 3: 'Dress',\n",
    "                4: 'Coat', 5: 'Sandal',\n",
    "                6: 'Shirt', 7: 'Sneaker',\n",
    "                8: 'Bag', 9: 'Boot',}"
   ]
  },
  {
   "cell_type": "code",
   "execution_count": 21,
   "metadata": {},
   "outputs": [
    {
     "data": {
      "image/png": "[encoded data removed]",
      "text/plain": [
       "<Figure size 1200x400 with 12 Axes>"
      ]
     },
     "metadata": {},
     "output_type": "display_data"
    }
   ],
   "source": [
    "imgs = torch.stack([test_ds[i][0] for i in range(12)]).to(device)\n",
    "preds = torch.argmax(model(imgs), dim= 1)\n",
    "txt_class = [num_to_class[x.item()] for x in preds.cpu()]\n",
    "\n",
    "fig = plt.figure(figsize=(12, 4))\n",
    "for i in range(12):\n",
    "    ax = fig.add_subplot(2, 6, i+1)\n",
    "    ax.set_xticks([])\n",
    "    ax.set_yticks([])\n",
    "    ax.imshow(imgs[i][0].cpu(), cmap= 'gray_r')\n",
    "    ax.text(.9, .1, txt_class[i], size= 15, color= 'blue',\n",
    "            horizontalalignment= 'center', verticalalignment= 'center',\n",
    "            transform= ax.transAxes)\n",
    "plt.show()"
   ]
  },
  {
   "cell_type": "code",
   "execution_count": null,
   "metadata": {},
   "outputs": [],
   "source": []
  }
 ],
 "metadata": {
  "kernelspec": {
   "display_name": "ima539",
   "language": "python",
   "name": "python3"
  },
  "language_info": {
   "codemirror_mode": {
    "name": "ipython",
    "version": 3
   },
   "file_extension": ".py",
   "mimetype": "text/x-python",
   "name": "python",
   "nbconvert_exporter": "python",
   "pygments_lexer": "ipython3",
   "version": "3.9.0"
  },
  "orig_nbformat": 4
 },
 "nbformat": 4,
 "nbformat_minor": 2
}
