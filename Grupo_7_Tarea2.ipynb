{
 "cells": [
  {
   "cell_type": "code",
   "execution_count": 43,
   "metadata": {},
   "outputs": [],
   "source": [
    "import torch\n",
    "import torchvision\n",
    "from torch import nn\n",
    "from torchvision import transforms\n",
    "from torch.utils.data import Subset\n",
    "from torch.utils.data import DataLoader\n",
    "import numpy as np\n",
    "import matplotlib.pyplot as plt\n",
    "\n",
    "# Carpeta root del dataset\n",
    "image_path = 'BD_perros'\n",
    "\n",
    "transform = transforms.Compose([transforms.ToTensor(),\n",
    "                                #transforms.Resize((128,128)),\n",
    "                                ])\n",
    "\n",
    "dataset = torchvision.datasets.ImageFolder(image_path, transform=transform)"
   ]
  },
  {
   "cell_type": "code",
   "execution_count": 44,
   "metadata": {},
   "outputs": [
    {
     "data": {
      "text/plain": [
       "1030"
      ]
     },
     "execution_count": 44,
     "metadata": {},
     "output_type": "execute_result"
    }
   ],
   "source": [
    "len(dataset)"
   ]
  },
  {
   "cell_type": "code",
   "execution_count": 45,
   "metadata": {},
   "outputs": [],
   "source": [
    "batch_size = 64\n",
    "\n",
    "num_datos = len(dataset)\n",
    "num_train = int(0.7 * num_datos)\n",
    "num_test = num_datos-num_train\n",
    "\n",
    "train_dataset = Subset(dataset, torch.arange(num_train))\n",
    "valid_dataset  = Subset(dataset, torch.arange(num_train, len(dataset)))\n",
    "\n",
    "train_dl = DataLoader(train_dataset, batch_size= batch_size, shuffle= True)\n",
    "valid_dl = DataLoader(valid_dataset , batch_size= batch_size, shuffle= False)"
   ]
  },
  {
   "cell_type": "code",
   "execution_count": 55,
   "metadata": {},
   "outputs": [],
   "source": [
    "model = nn.Sequential()\n",
    "\n",
    "# Conv -> ReLU -> MaxPooling\n",
    "model.add_module('conv1', nn.Conv2d(in_channels=3,out_channels=32,kernel_size=5,padding=2))\n",
    "model.add_module('relu1', nn.ReLU())\n",
    "model.add_module('pool1', nn.MaxPool2d(kernel_size=2))\n",
    "\n",
    "# Conv -> ReLU -> MaxPooling\n",
    "model.add_module('conv2', nn.Conv2d(in_channels=32,out_channels=64,kernel_size=5,padding=2))\n",
    "model.add_module('relu2', nn.ReLU())\n",
    "model.add_module('pool2', nn.MaxPool2d(kernel_size=2))\n",
    "\n",
    "# Flatten\n",
    "model.add_module('flatten', nn.Flatten())\n",
    "\n",
    "# Full Connected -> ReLU -> Dropout\n",
    "model.add_module('fc1', nn.Linear(200704,1024))\n",
    "model.add_module('relu3', nn.ReLU())\n",
    "model.add_module('dropout', nn.Dropout(p= .5))\n",
    "\n",
    "# Full Connected\n",
    "model.add_module('fc2', nn.Linear(1024, 5))\n",
    "#model.add_module('soft', nn.Softmax(dim=10))"
   ]
  },
  {
   "cell_type": "code",
   "execution_count": 52,
   "metadata": {},
   "outputs": [
    {
     "data": {
      "text/plain": [
       "200704.0"
      ]
     },
     "execution_count": 52,
     "metadata": {},
     "output_type": "execute_result"
    }
   ],
   "source": [
    "1*64*224*224/16"
   ]
  },
  {
   "cell_type": "code",
   "execution_count": 36,
   "metadata": {},
   "outputs": [
    {
     "name": "stdout",
     "output_type": "stream",
     "text": [
      "You're using: cuda as device.\n"
     ]
    }
   ],
   "source": [
    "# Selección de la unidad de procesamiento\n",
    "processing_unit = 'cuda' if torch.cuda.is_available() else 'cpu'\n",
    "device = torch.device(processing_unit)\n",
    "model.to(device)\n",
    "print(f\"You're using: {device} as device.\")"
   ]
  },
  {
   "cell_type": "code",
   "execution_count": 56,
   "metadata": {},
   "outputs": [
    {
     "data": {
      "text/plain": [
       "==========================================================================================\n",
       "Layer (type:depth-idx)                   Output Shape              Param #\n",
       "==========================================================================================\n",
       "├─Conv2d: 1-1                            [-1, 32, 224, 224]        2,432\n",
       "├─ReLU: 1-2                              [-1, 32, 224, 224]        --\n",
       "├─MaxPool2d: 1-3                         [-1, 32, 112, 112]        --\n",
       "├─Conv2d: 1-4                            [-1, 64, 112, 112]        51,264\n",
       "├─ReLU: 1-5                              [-1, 64, 112, 112]        --\n",
       "├─MaxPool2d: 1-6                         [-1, 64, 56, 56]          --\n",
       "├─Flatten: 1-7                           [-1, 200704]              --\n",
       "├─Linear: 1-8                            [-1, 1024]                205,521,920\n",
       "├─ReLU: 1-9                              [-1, 1024]                --\n",
       "├─Dropout: 1-10                          [-1, 1024]                --\n",
       "├─Linear: 1-11                           [-1, 5]                   5,125\n",
       "==========================================================================================\n",
       "Total params: 205,580,741\n",
       "Trainable params: 205,580,741\n",
       "Non-trainable params: 0\n",
       "Total mult-adds (M): 968.20\n",
       "==========================================================================================\n",
       "Input size (MB): 36.75\n",
       "Forward/backward pass size (MB): 18.38\n",
       "Params size (MB): 784.23\n",
       "Estimated Total Size (MB): 839.36\n",
       "=========================================================================================="
      ]
     },
     "execution_count": 56,
     "metadata": {},
     "output_type": "execute_result"
    }
   ],
   "source": [
    "import torchsummary\n",
    "torchsummary.summary(model,input_data= torch.randint(0, 255, (batch_size, 3, 224, 224))/ 255,\n",
    "col_names=[\"output_size\", \"num_params\"], verbose= 0,device= device)"
   ]
  },
  {
   "cell_type": "code",
   "execution_count": 57,
   "metadata": {},
   "outputs": [],
   "source": [
    "loss_fn = nn.CrossEntropyLoss()\n",
    "optimizer = torch.optim.Adam(model.parameters(), lr= .001)"
   ]
  },
  {
   "cell_type": "code",
   "execution_count": 58,
   "metadata": {},
   "outputs": [],
   "source": [
    "def train(model, num_epochs, train_dl, valid_dl, device):\n",
    "    loss_hist_train = torch.zeros(num_epochs).to(device)\n",
    "    accuracy_hist_train = torch.zeros(num_epochs).to(device)\n",
    " \n",
    "    loss_hist_valid = torch.zeros(num_epochs).to(device)\n",
    "    accuracy_hist_valid = torch.zeros(num_epochs).to(device)\n",
    " \n",
    "    for epoch in range(num_epochs):\n",
    "        model.train()\n",
    "        for x_batch, y_batch in train_dl:\n",
    "            x_batch, y_batch = x_batch.to(device), y_batch.to(device)\n",
    "            pred = model(x_batch)\n",
    "            loss = loss_fn(pred, y_batch)\n",
    "            loss.backward()\n",
    "            optimizer.step()\n",
    "            optimizer.zero_grad()\n",
    "            loss_hist_train[epoch] += loss.item() * y_batch.size(0)\n",
    "            is_correct = (torch.argmax(pred, dim=1) == y_batch).float()\n",
    "            accuracy_hist_train[epoch] += is_correct.sum()\n",
    "\n",
    "        loss_hist_train[epoch] /= len(train_dl.dataset)\n",
    "        accuracy_hist_train[epoch] /= len(train_dl.dataset)\n",
    "\n",
    "        model.eval()\n",
    "        with torch.no_grad():\n",
    "            for x_batch, y_batch in valid_dl:\n",
    "                x_batch, y_batch = x_batch.to(device), y_batch.to(device)\n",
    "                pred = model(x_batch)\n",
    "                loss = loss_fn(pred, y_batch)\n",
    "                loss_hist_valid[epoch] += loss.item() * y_batch.size(0)\n",
    "                is_correct = (torch.argmax(pred, dim=1) == y_batch).float()\n",
    "                accuracy_hist_valid[epoch] += is_correct.sum()\n",
    "            loss_hist_valid[epoch] /= len(valid_dl.dataset)\n",
    "            accuracy_hist_valid[epoch] /= len(valid_dl.dataset)\n",
    "        print(f'Epoch {epoch+1} accuracy: {accuracy_hist_train[epoch]:.4f} 'f'val_accuracy: {accuracy_hist_valid[epoch]:.4f}')\n",
    "    return loss_hist_train.cpu(), loss_hist_valid.cpu(), accuracy_hist_train.cpu(), accuracy_hist_valid.cpu()"
   ]
  },
  {
   "cell_type": "code",
   "execution_count": 61,
   "metadata": {},
   "outputs": [
    {
     "name": "stderr",
     "output_type": "stream",
     "text": [
      "c:\\Users\\sfons\\anaconda3\\envs\\ima539\\lib\\site-packages\\PIL\\Image.py:996: UserWarning: Palette images with Transparency expressed in bytes should be converted to RGBA images\n",
      "  warnings.warn(\n"
     ]
    },
    {
     "name": "stdout",
     "output_type": "stream",
     "text": [
      "Epoch 1 accuracy: 0.5062 val_accuracy: 0.0000\n",
      "Epoch 2 accuracy: 0.5187 val_accuracy: 0.0000\n",
      "Epoch 3 accuracy: 0.5700 val_accuracy: 0.0000\n",
      "Epoch 4 accuracy: 0.6047 val_accuracy: 0.0000\n",
      "Epoch 5 accuracy: 0.5798 val_accuracy: 0.0000\n",
      "Epoch 6 accuracy: 0.5770 val_accuracy: 0.0000\n",
      "Epoch 7 accuracy: 0.5839 val_accuracy: 0.0000\n",
      "Epoch 8 accuracy: 0.6033 val_accuracy: 0.0000\n",
      "Epoch 9 accuracy: 0.6172 val_accuracy: 0.0000\n",
      "Epoch 10 accuracy: 0.6449 val_accuracy: 0.0000\n"
     ]
    }
   ],
   "source": [
    "torch.manual_seed(1)\n",
    "num_epochs = 10\n",
    "hist = train(model, num_epochs, train_dl, valid_dl, device)"
   ]
  },
  {
   "cell_type": "code",
   "execution_count": 62,
   "metadata": {},
   "outputs": [
    {
     "data": {
      "image/png": "[encoded data removed]",
      "text/plain": [
       "<Figure size 1200x400 with 2 Axes>"
      ]
     },
     "metadata": {},
     "output_type": "display_data"
    }
   ],
   "source": [
    "x_arr = np.arange(len(hist[0])) + 1\n",
    "fig = plt.figure(figsize= (12, 4))\n",
    "ax = fig.add_subplot(1, 2, 1)\n",
    "ax.plot(x_arr, hist[0], '-o', label='Train loss')\n",
    "ax.plot(x_arr, hist[1], '--<', label='Validation loss')\n",
    "ax.legend(fontsize=15)\n",
    "ax = fig.add_subplot(1, 2, 2)\n",
    "ax.plot(x_arr, hist[2], '-o', label='Train acc.')\n",
    "ax.plot(x_arr, hist[3], '--<', label='Validation acc.')\n",
    "ax.legend(fontsize=15)\n",
    "ax.set_xlabel('Epoch', size=15)\n",
    "ax.set_ylabel('Accuracy', size=15)\n",
    "plt.show()"
   ]
  },
  {
   "cell_type": "code",
   "execution_count": 31,
   "metadata": {},
   "outputs": [
    {
     "ename": "AttributeError",
     "evalue": "'DataLoader' object has no attribute 'data'",
     "output_type": "error",
     "traceback": [
      "\u001b[1;31m---------------------------------------------------------------------------\u001b[0m",
      "\u001b[1;31mAttributeError\u001b[0m                            Traceback (most recent call last)",
      "\u001b[1;32mc:\\Users\\sfons\\OneDrive - Universidad de La Frontera\\Universidad\\Sem8\\Análisis de Datos Práctico usando Python\\Tarea2\\Grupo_7_Tarea2.ipynb Celda 12\u001b[0m line \u001b[0;36m1\n\u001b[1;32m----> <a href='vscode-notebook-cell:/c%3A/Users/sfons/OneDrive%20-%20Universidad%20de%20La%20Frontera/Universidad/Sem8/An%C3%A1lisis%20de%20Datos%20Pr%C3%A1ctico%20usando%20Python/Tarea2/Grupo_7_Tarea2.ipynb#X15sZmlsZQ%3D%3D?line=0'>1</a>\u001b[0m pred \u001b[39m=\u001b[39m model((valid_dl\u001b[39m.\u001b[39;49mdata\u001b[39m.\u001b[39munsqueeze(\u001b[39m1\u001b[39m) \u001b[39m/\u001b[39m \u001b[39m255\u001b[39m)\u001b[39m.\u001b[39mto(device))\n\u001b[0;32m      <a href='vscode-notebook-cell:/c%3A/Users/sfons/OneDrive%20-%20Universidad%20de%20La%20Frontera/Universidad/Sem8/An%C3%A1lisis%20de%20Datos%20Pr%C3%A1ctico%20usando%20Python/Tarea2/Grupo_7_Tarea2.ipynb#X15sZmlsZQ%3D%3D?line=1'>2</a>\u001b[0m is_correct \u001b[39m=\u001b[39m (torch\u001b[39m.\u001b[39margmax(pred, dim\u001b[39m=\u001b[39m\u001b[39m1\u001b[39m) \u001b[39m==\u001b[39m valid_dl\u001b[39m.\u001b[39mtargets\u001b[39m.\u001b[39mto(device))\u001b[39m.\u001b[39mfloat()\n\u001b[0;32m      <a href='vscode-notebook-cell:/c%3A/Users/sfons/OneDrive%20-%20Universidad%20de%20La%20Frontera/Universidad/Sem8/An%C3%A1lisis%20de%20Datos%20Pr%C3%A1ctico%20usando%20Python/Tarea2/Grupo_7_Tarea2.ipynb#X15sZmlsZQ%3D%3D?line=2'>3</a>\u001b[0m \u001b[39mprint\u001b[39m(\u001b[39mf\u001b[39m\u001b[39m'\u001b[39m\u001b[39mTest accuracy: \u001b[39m\u001b[39m{\u001b[39;00mis_correct\u001b[39m.\u001b[39mmean()\u001b[39m:\u001b[39;00m\u001b[39m.4f\u001b[39m\u001b[39m}\u001b[39;00m\u001b[39m'\u001b[39m)\n",
      "\u001b[1;31mAttributeError\u001b[0m: 'DataLoader' object has no attribute 'data'"
     ]
    }
   ],
   "source": [
    "pred = model((test_dataset.data.unsqueeze(1) / 255).to(device))\n",
    "is_correct = (torch.argmax(pred, dim=1) == test_dataset.targets.to(device)).float()\n",
    "print(f'Test accuracy: {is_correct.mean():.4f}')"
   ]
  },
  {
   "cell_type": "code",
   "execution_count": null,
   "metadata": {},
   "outputs": [],
   "source": []
  }
 ],
 "metadata": {
  "kernelspec": {
   "display_name": "ima539",
   "language": "python",
   "name": "python3"
  },
  "language_info": {
   "codemirror_mode": {
    "name": "ipython",
    "version": 3
   },
   "file_extension": ".py",
   "mimetype": "text/x-python",
   "name": "python",
   "nbconvert_exporter": "python",
   "pygments_lexer": "ipython3",
   "version": "3.9.0"
  }
 },
 "nbformat": 4,
 "nbformat_minor": 2
}
